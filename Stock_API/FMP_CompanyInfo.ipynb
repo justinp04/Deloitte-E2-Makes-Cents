{
 "cells": [
  {
   "metadata": {
    "ExecuteTime": {
     "end_time": "2024-08-02T07:28:26.230177Z",
     "start_time": "2024-08-02T07:28:24.017074Z"
    }
   },
   "cell_type": "code",
   "source": [
    "import requests\n",
    "import json\n",
    "import os\n",
    "\n",
    "# Replace with your actual Yahoo Finance API key\n",
    "API_KEY = '7c352dcfb2msh75ced58cd8d9a5cp168631jsn410e99164d5e'\n",
    "\n",
    "def fetch_company_overview(ticker):\n",
    "    url = \"https://yahoo-finance15.p.rapidapi.com/api/v1/markets/stock/modules\"\n",
    "    params = {\n",
    "        'ticker': ticker,\n",
    "        'module': 'asset-profile'\n",
    "    }\n",
    "    headers = {\n",
    "        'x-rapidapi-key': API_KEY,\n",
    "        'x-rapidapi-host': 'yahoo-finance15.p.rapidapi.com'\n",
    "    }\n",
    "\n",
    "    response = requests.get(url, headers=headers, params=params)\n",
    "    data = response.json()\n",
    "\n",
    "    # Check if the response contains an error\n",
    "    if 'error' in data:\n",
    "        print(f\"Error fetching data for {ticker}: {data['error']}\")\n",
    "        return None\n",
    "\n",
    "    return data\n",
    "\n",
    "def save_to_file(ticker, data):\n",
    "    if not os.path.exists('raw_company_info'):\n",
    "        os.makedirs('raw_company_info')\n",
    "\n",
    "    file_path = f'raw_company_info/{ticker}.txt'\n",
    "    with open(file_path, 'w', encoding='utf-8') as file:\n",
    "        file.write(json.dumps(data, indent=4))  # Pretty print JSON data\n",
    "\n",
    "def main():\n",
    "    tickers = ['CBA', 'BHP', 'CSL', 'NAB', 'WBC', 'ANZ', 'WES', 'MQG', 'GMG', 'FMG', 'WDS', 'RMD', 'TLS', 'WOW', 'TCL', 'ALL', 'WTC', 'QBE', 'REA', 'STO', 'COL', 'JHX', 'AMC', 'SUN', 'COH', 'BXB', 'XRO', 'ORG', 'SCG', 'REH', 'IAG', 'FPH', 'CPU', 'NST', 'SVW', 'PME', 'S32', 'SHL', 'CAR', 'SOL', 'ASX', 'TLC', 'SGP', 'MPL', 'RHC', 'MIN', 'QAN', 'APA', 'NXT', 'TWE', 'EDV', 'BSL', 'VCX', 'YAL', 'AFI', 'GPT', 'PLS', 'TPG', 'GQG', 'ORI', 'MGR', 'WOR', 'ALD', 'SEK', 'EVN', 'JBH', 'ALX', 'DXS', 'SDF', 'BEN', 'AGL', 'AZJ', 'TNE', 'WHC', 'TLX', 'CHC', 'HVN', 'LYC', 'IPL', 'FLT', 'LLC', 'AWC', 'IGO', 'IEL', 'BOQ', 'NHC', 'HUB', 'SFR', 'VNT', 'SUL', 'PDN', 'AMP', 'BFL', 'ILU', 'NEU', 'DRR', 'SGM', 'CTD', 'IFL', 'MFG', 'KAR', 'DYL', 'CCP', 'TPW', 'OML', 'QRI', 'ADH', 'EML', 'GNG', 'DUG', 'WC8', 'KSL', 'TPC', 'PPE', 'AXI']  # List of tickers\n",
    "\n",
    "    for ticker in tickers:\n",
    "        print(f\"Fetching data for {ticker}...\")\n",
    "        company_data = fetch_company_overview(ticker)\n",
    "        if company_data:\n",
    "            save_to_file(ticker, company_data)\n",
    "        print(f\"Data for {ticker} saved.\\n\" + \"=\"*80 + \"\\n\")\n",
    "\n",
    "if __name__ == '__main__':\n",
    "    main()"
   ],
   "id": "30a849190a309f12",
   "outputs": [
    {
     "name": "stdout",
     "output_type": "stream",
     "text": [
      "Fetching data for RIO...\n",
      "Data for RIO saved.\n",
      "================================================================================\n",
      "\n"
     ]
    }
   ],
   "execution_count": 14
  },
  {
   "metadata": {},
   "cell_type": "code",
   "outputs": [],
   "execution_count": null,
   "source": "",
   "id": "f43784374abb5d7f"
  }
 ],
 "metadata": {
  "kernelspec": {
   "display_name": "Python 3",
   "language": "python",
   "name": "python3"
  },
  "language_info": {
   "codemirror_mode": {
    "name": "ipython",
    "version": 2
   },
   "file_extension": ".py",
   "mimetype": "text/x-python",
   "name": "python",
   "nbconvert_exporter": "python",
   "pygments_lexer": "ipython2",
   "version": "2.7.6"
  }
 },
 "nbformat": 4,
 "nbformat_minor": 5
}
